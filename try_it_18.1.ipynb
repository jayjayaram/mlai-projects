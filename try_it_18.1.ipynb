{
 "cells": [
  {
   "cell_type": "markdown",
   "metadata": {},
   "source": [
    "### Comparing Models and Vectorization Strategies for Text Classification\n",
    "\n",
    "This try-it focuses on weighing the positives and negatives of different estimators and vectorization strategies for a text classification problem.  In order to consider each of these components, you should make use of the `Pipeline` and `GridSearchCV` objects in scikitlearn to try different combinations of vectorizers with different estimators.  For each of these, you also want to use the `.cv_results_` to examine the time for the estimator to fit the data."
   ]
  },
  {
   "cell_type": "markdown",
   "metadata": {},
   "source": [
    "### The Data\n",
    "\n",
    "The dataset below is from [kaggle]() and contains a dataset named the \"ColBert Dataset\" created for this [paper](https://arxiv.org/pdf/2004.12765.pdf).  You are to use the text column to classify whether or not the text was humorous.  It is loaded and displayed below.\n",
    "\n",
    "**Note:** The original dataset contains 200K rows of data. It is best to try to use the full dtaset. If the original dataset is too large for your computer, please use the 'dataset-minimal.csv', which has been reduced to 100K."
   ]
  },
  {
   "cell_type": "code",
   "execution_count": 101,
   "metadata": {},
   "outputs": [
    {
     "name": "stderr",
     "output_type": "stream",
     "text": [
      "[nltk_data] Downloading package wordnet to\n",
      "[nltk_data]     /Users/jayakanthjayaram/nltk_data...\n",
      "[nltk_data]   Package wordnet is already up-to-date!\n",
      "[nltk_data] Downloading package omw-1.4 to\n",
      "[nltk_data]     /Users/jayakanthjayaram/nltk_data...\n",
      "[nltk_data]   Package omw-1.4 is already up-to-date!\n",
      "[nltk_data] Downloading package punkt to\n",
      "[nltk_data]     /Users/jayakanthjayaram/nltk_data...\n",
      "[nltk_data]   Package punkt is already up-to-date!\n"
     ]
    }
   ],
   "source": [
    "from sklearn.tree import DecisionTreeClassifier\n",
    "from sklearn.linear_model import LogisticRegression\n",
    "from sklearn.naive_bayes import MultinomialNB\n",
    "\n",
    "import pandas as pd\n",
    "\n",
    "#NLP libraies\n",
    "import nltk\n",
    "from nltk.tokenize import word_tokenize,sent_tokenize\n",
    "from nltk.corpus import stopwords\n",
    "from nltk.stem.porter import PorterStemmer\n",
    "from nltk.stem import WordNetLemmatizer\n",
    "from sklearn.feature_extraction.text import CountVectorizer,TfidfVectorizer,TfidfTransformer\n",
    "import nltk\n",
    "nltk.download('wordnet')\n",
    "nltk.download('omw-1.4')\n",
    "nltk.download('punkt')\n",
    "\n",
    "from sklearn.model_selection import train_test_split, GridSearchCV\n",
    "from sklearn.pipeline import Pipeline, make_pipeline\n",
    "\n",
    "import time\n",
    "from datetime import datetime as dt\n",
    "import numpy as np\n",
    "     \n",
    "from sklearn.tree import DecisionTreeClassifier\n",
    "from sklearn.linear_model import LogisticRegression\n",
    "from sklearn.naive_bayes import MultinomialNB"
   ]
  },
  {
   "cell_type": "code",
   "execution_count": 102,
   "metadata": {},
   "outputs": [],
   "source": [
    "df = pd.read_csv('text_data/dataset.csv')"
   ]
  },
  {
   "cell_type": "code",
   "execution_count": 103,
   "metadata": {},
   "outputs": [
    {
     "data": {
      "text/html": [
       "<div>\n",
       "<style scoped>\n",
       "    .dataframe tbody tr th:only-of-type {\n",
       "        vertical-align: middle;\n",
       "    }\n",
       "\n",
       "    .dataframe tbody tr th {\n",
       "        vertical-align: top;\n",
       "    }\n",
       "\n",
       "    .dataframe thead th {\n",
       "        text-align: right;\n",
       "    }\n",
       "</style>\n",
       "<table border=\"1\" class=\"dataframe\">\n",
       "  <thead>\n",
       "    <tr style=\"text-align: right;\">\n",
       "      <th></th>\n",
       "      <th>text</th>\n",
       "      <th>humor</th>\n",
       "    </tr>\n",
       "  </thead>\n",
       "  <tbody>\n",
       "    <tr>\n",
       "      <th>0</th>\n",
       "      <td>Joe biden rules out 2020 bid: 'guys, i'm not r...</td>\n",
       "      <td>False</td>\n",
       "    </tr>\n",
       "    <tr>\n",
       "      <th>1</th>\n",
       "      <td>Watch: darvish gave hitter whiplash with slow ...</td>\n",
       "      <td>False</td>\n",
       "    </tr>\n",
       "    <tr>\n",
       "      <th>2</th>\n",
       "      <td>What do you call a turtle without its shell? d...</td>\n",
       "      <td>True</td>\n",
       "    </tr>\n",
       "    <tr>\n",
       "      <th>3</th>\n",
       "      <td>5 reasons the 2016 election feels so personal</td>\n",
       "      <td>False</td>\n",
       "    </tr>\n",
       "    <tr>\n",
       "      <th>4</th>\n",
       "      <td>Pasco police shot mexican migrant from behind,...</td>\n",
       "      <td>False</td>\n",
       "    </tr>\n",
       "  </tbody>\n",
       "</table>\n",
       "</div>"
      ],
      "text/plain": [
       "                                                text  humor\n",
       "0  Joe biden rules out 2020 bid: 'guys, i'm not r...  False\n",
       "1  Watch: darvish gave hitter whiplash with slow ...  False\n",
       "2  What do you call a turtle without its shell? d...   True\n",
       "3      5 reasons the 2016 election feels so personal  False\n",
       "4  Pasco police shot mexican migrant from behind,...  False"
      ]
     },
     "execution_count": 103,
     "metadata": {},
     "output_type": "execute_result"
    }
   ],
   "source": [
    "df.head()"
   ]
  },
  {
   "cell_type": "markdown",
   "metadata": {},
   "source": [
    "#### Task\n",
    "\n",
    "\n",
    "**Text preprocessing:** As a pre-processing step, perform both `stemming` and `lemmatizing` to normalize your text before classifying. For each technique use both the `CountVectorize`r and `TfidifVectorizer` and use options for stop words and max features to prepare the text data for your estimator.\n",
    "\n",
    "**Classification:** Once you have prepared the text data with stemming lemmatizing techniques, consider `LogisticRegression`, `DecisionTreeClassifier`, and `MultinomialNB` as classification algorithms for the data. Compare their performance in terms of accuracy and speed.\n",
    "\n",
    "Share the results of your best classifier in the form of a table with the best version of each estimator, a dictionary of the best parameters and the best score."
   ]
  },
  {
   "cell_type": "code",
   "execution_count": 104,
   "metadata": {},
   "outputs": [
    {
     "data": {
      "text/html": [
       "<div>\n",
       "<style scoped>\n",
       "    .dataframe tbody tr th:only-of-type {\n",
       "        vertical-align: middle;\n",
       "    }\n",
       "\n",
       "    .dataframe tbody tr th {\n",
       "        vertical-align: top;\n",
       "    }\n",
       "\n",
       "    .dataframe thead th {\n",
       "        text-align: right;\n",
       "    }\n",
       "</style>\n",
       "<table border=\"1\" class=\"dataframe\">\n",
       "  <thead>\n",
       "    <tr style=\"text-align: right;\">\n",
       "      <th></th>\n",
       "      <th>best_params</th>\n",
       "      <th>best_score</th>\n",
       "    </tr>\n",
       "    <tr>\n",
       "      <th>model</th>\n",
       "      <th></th>\n",
       "      <th></th>\n",
       "    </tr>\n",
       "  </thead>\n",
       "  <tbody>\n",
       "    <tr>\n",
       "      <th>Logistic</th>\n",
       "      <td></td>\n",
       "      <td></td>\n",
       "    </tr>\n",
       "    <tr>\n",
       "      <th>Decision Tree</th>\n",
       "      <td></td>\n",
       "      <td></td>\n",
       "    </tr>\n",
       "    <tr>\n",
       "      <th>Bayes</th>\n",
       "      <td></td>\n",
       "      <td></td>\n",
       "    </tr>\n",
       "  </tbody>\n",
       "</table>\n",
       "</div>"
      ],
      "text/plain": [
       "              best_params best_score\n",
       "model                               \n",
       "Logistic                            \n",
       "Decision Tree                       \n",
       "Bayes                               "
      ]
     },
     "execution_count": 104,
     "metadata": {},
     "output_type": "execute_result"
    }
   ],
   "source": [
    "pd.DataFrame({'model': ['Logistic', 'Decision Tree', 'Bayes'], \n",
    "             'best_params': ['', '', ''],\n",
    "             'best_score': ['', '', '']}).set_index('model')"
   ]
  },
  {
   "cell_type": "code",
   "execution_count": 105,
   "metadata": {},
   "outputs": [
    {
     "name": "stdout",
     "output_type": "stream",
     "text": [
      "<class 'pandas.core.frame.DataFrame'>\n",
      "RangeIndex: 200000 entries, 0 to 199999\n",
      "Data columns (total 2 columns):\n",
      " #   Column  Non-Null Count   Dtype \n",
      "---  ------  --------------   ----- \n",
      " 0   text    200000 non-null  object\n",
      " 1   humor   200000 non-null  bool  \n",
      "dtypes: bool(1), object(1)\n",
      "memory usage: 1.7+ MB\n"
     ]
    }
   ],
   "source": [
    "df.info()"
   ]
  },
  {
   "cell_type": "markdown",
   "metadata": {},
   "source": [
    "# Prepocessing - stemming"
   ]
  },
  {
   "cell_type": "code",
   "execution_count": 106,
   "metadata": {},
   "outputs": [],
   "source": [
    "def stemmer(text):\n",
    "    stem = PorterStemmer()\n",
    "    return ' '.join([stem.stem(w) for w in word_tokenize(text)])\n",
    "\n",
    "def lemmatiz(text):\n",
    "    lemma = WordNetLemmatizer()\n",
    "    return ' '.join([lemma.lemmatize(w) for w in word_tokenize(text)])"
   ]
  },
  {
   "cell_type": "code",
   "execution_count": 107,
   "metadata": {},
   "outputs": [],
   "source": [
    "stemmed_df = df.copy()\n",
    "stemmed_df['text'] = df['text'].apply(stemmer)"
   ]
  },
  {
   "cell_type": "code",
   "execution_count": 108,
   "metadata": {},
   "outputs": [
    {
     "data": {
      "text/html": [
       "<div>\n",
       "<style scoped>\n",
       "    .dataframe tbody tr th:only-of-type {\n",
       "        vertical-align: middle;\n",
       "    }\n",
       "\n",
       "    .dataframe tbody tr th {\n",
       "        vertical-align: top;\n",
       "    }\n",
       "\n",
       "    .dataframe thead th {\n",
       "        text-align: right;\n",
       "    }\n",
       "</style>\n",
       "<table border=\"1\" class=\"dataframe\">\n",
       "  <thead>\n",
       "    <tr style=\"text-align: right;\">\n",
       "      <th></th>\n",
       "      <th>text</th>\n",
       "      <th>humor</th>\n",
       "    </tr>\n",
       "  </thead>\n",
       "  <tbody>\n",
       "    <tr>\n",
       "      <th>0</th>\n",
       "      <td>joe biden rule out 2020 bid : 'guy , i 'm not ...</td>\n",
       "      <td>False</td>\n",
       "    </tr>\n",
       "    <tr>\n",
       "      <th>1</th>\n",
       "      <td>watch : darvish gave hitter whiplash with slow...</td>\n",
       "      <td>False</td>\n",
       "    </tr>\n",
       "    <tr>\n",
       "      <th>2</th>\n",
       "      <td>what do you call a turtl without it shell ? de...</td>\n",
       "      <td>True</td>\n",
       "    </tr>\n",
       "    <tr>\n",
       "      <th>3</th>\n",
       "      <td>5 reason the 2016 elect feel so person</td>\n",
       "      <td>False</td>\n",
       "    </tr>\n",
       "    <tr>\n",
       "      <th>4</th>\n",
       "      <td>pasco polic shot mexican migrant from behind ,...</td>\n",
       "      <td>False</td>\n",
       "    </tr>\n",
       "  </tbody>\n",
       "</table>\n",
       "</div>"
      ],
      "text/plain": [
       "                                                text  humor\n",
       "0  joe biden rule out 2020 bid : 'guy , i 'm not ...  False\n",
       "1  watch : darvish gave hitter whiplash with slow...  False\n",
       "2  what do you call a turtl without it shell ? de...   True\n",
       "3             5 reason the 2016 elect feel so person  False\n",
       "4  pasco polic shot mexican migrant from behind ,...  False"
      ]
     },
     "execution_count": 108,
     "metadata": {},
     "output_type": "execute_result"
    }
   ],
   "source": [
    "stem_df = pd.DataFrame(stemmed_df)\n",
    "stem_df.head()"
   ]
  },
  {
   "cell_type": "code",
   "execution_count": 109,
   "metadata": {},
   "outputs": [
    {
     "data": {
      "text/html": [
       "<div>\n",
       "<style scoped>\n",
       "    .dataframe tbody tr th:only-of-type {\n",
       "        vertical-align: middle;\n",
       "    }\n",
       "\n",
       "    .dataframe tbody tr th {\n",
       "        vertical-align: top;\n",
       "    }\n",
       "\n",
       "    .dataframe thead th {\n",
       "        text-align: right;\n",
       "    }\n",
       "</style>\n",
       "<table border=\"1\" class=\"dataframe\">\n",
       "  <thead>\n",
       "    <tr style=\"text-align: right;\">\n",
       "      <th></th>\n",
       "      <th>text</th>\n",
       "      <th>humor</th>\n",
       "    </tr>\n",
       "  </thead>\n",
       "  <tbody>\n",
       "    <tr>\n",
       "      <th>0</th>\n",
       "      <td>Joe biden rule out 2020 bid : 'guys , i 'm not...</td>\n",
       "      <td>False</td>\n",
       "    </tr>\n",
       "    <tr>\n",
       "      <th>1</th>\n",
       "      <td>Watch : darvish gave hitter whiplash with slow...</td>\n",
       "      <td>False</td>\n",
       "    </tr>\n",
       "    <tr>\n",
       "      <th>2</th>\n",
       "      <td>What do you call a turtle without it shell ? d...</td>\n",
       "      <td>True</td>\n",
       "    </tr>\n",
       "    <tr>\n",
       "      <th>3</th>\n",
       "      <td>5 reason the 2016 election feel so personal</td>\n",
       "      <td>False</td>\n",
       "    </tr>\n",
       "    <tr>\n",
       "      <th>4</th>\n",
       "      <td>Pasco police shot mexican migrant from behind ...</td>\n",
       "      <td>False</td>\n",
       "    </tr>\n",
       "  </tbody>\n",
       "</table>\n",
       "</div>"
      ],
      "text/plain": [
       "                                                text  humor\n",
       "0  Joe biden rule out 2020 bid : 'guys , i 'm not...  False\n",
       "1  Watch : darvish gave hitter whiplash with slow...  False\n",
       "2  What do you call a turtle without it shell ? d...   True\n",
       "3        5 reason the 2016 election feel so personal  False\n",
       "4  Pasco police shot mexican migrant from behind ...  False"
      ]
     },
     "execution_count": 109,
     "metadata": {},
     "output_type": "execute_result"
    }
   ],
   "source": [
    "lemma_df = df.copy()\n",
    "lemma_df['text'] = df['text'].apply(lemmatiz)\n",
    "lemma_df.head()"
   ]
  },
  {
   "cell_type": "code",
   "execution_count": 110,
   "metadata": {},
   "outputs": [],
   "source": [
    "X = df.drop('humor', axis = 1)\n",
    "y = df['humor']"
   ]
  },
  {
   "cell_type": "code",
   "execution_count": 111,
   "metadata": {},
   "outputs": [],
   "source": [
    "X_train, X_test, y_train, y_test = train_test_split(X['text'], y, test_size=0.30, random_state = 42)"
   ]
  },
  {
   "cell_type": "code",
   "execution_count": null,
   "metadata": {},
   "outputs": [],
   "source": [
    "cvect = CountVectorizer()\n",
    "cvect.fit_transform(X_train)\n",
    "pd.DataFrame(dtm.toarray(), columns = cvect.get_feature_names()).tail()\n",
    "pd.head(10)"
   ]
  },
  {
   "cell_type": "code",
   "execution_count": 113,
   "metadata": {},
   "outputs": [
    {
     "data": {
      "text/plain": [
       "({'cvect__max_features': 7000, 'cvect__stop_words': None}, 0.9082642857142856)"
      ]
     },
     "execution_count": 113,
     "metadata": {},
     "output_type": "execute_result"
    }
   ],
   "source": [
    "pipe = Pipeline([('cvect', CountVectorizer()),\n",
    "                ('lgr', MultinomialNB())])\n",
    "pipe.fit(X_train, y_train)\n",
    "test_acc = pipe.score(X_test, y_test)\n",
    "params = {'cvect__max_features': [100, 300, 1000, 2000, 4000, 7000],\n",
    "         'cvect__stop_words': ['english', None]}\n",
    "\n",
    "grid = GridSearchCV(pipe, param_grid=params)\n",
    "grid.fit(X_train, y_train)\n",
    "acc = grid.score(X_test, y_test)\n",
    "grid.best_params_, grid.best_score_"
   ]
  },
  {
   "cell_type": "code",
   "execution_count": 114,
   "metadata": {},
   "outputs": [
    {
     "data": {
      "text/plain": [
       "({'cvect__max_features': 7000, 'cvect__stop_words': None}, 0.9082642857142856)"
      ]
     },
     "execution_count": 114,
     "metadata": {},
     "output_type": "execute_result"
    }
   ],
   "source": [
    "params = {'cvect__max_features': [100, 300, 1000, 2000, 4000, 7000],\n",
    "         'cvect__stop_words': ['english', None]}\n",
    "grid = GridSearchCV(pipe, param_grid=params)\n",
    "grid.fit(X_train, y_train)\n",
    "acc = grid.score(X_test, y_test)\n",
    "\n",
    "grid.best_params_, grid.best_score_"
   ]
  },
  {
   "cell_type": "code",
   "execution_count": 115,
   "metadata": {},
   "outputs": [],
   "source": [
    "X_s = stem_df.drop('humor', axis = 1)\n",
    "y_s = stem_df['humor']"
   ]
  },
  {
   "cell_type": "code",
   "execution_count": null,
   "metadata": {},
   "outputs": [],
   "source": [
    "start = dt.now()\n",
    "# process stuff\n",
    "grid_tf_mnb = GridSearchCV(pipe_stem_tfidf_mnb, param_grid=params_s_mnb)\n",
    "grid_tf_mnb.fit(X_train_lr, y_train_lr)\n",
    "acc_tf_mnb = grid_tf_mnb.score(X_test_lr, y_test_lr)\n",
    "\n",
    "running_secs_nb = (dt.now() - start).seconds\n",
    "\n",
    "grid_tf_mnb.best_params_, grid_tf_mnb.best_score_, test_acc_lr_mnb, running_secs_nb"
   ]
  },
  {
   "cell_type": "code",
   "execution_count": null,
   "metadata": {},
   "outputs": [],
   "source": [
    "params_s_mnb1 = {'tfidf__max_features': [1000, 2000, 4000, 7000],\n",
    "         'tfidf__stop_words': ['english', None], \n",
    "                'mnb__alpha': np.linspace(0.5, 1.5, 6),\n",
    "                'mnb__fit_prior': [True, False],}"
   ]
  },
  {
   "cell_type": "code",
   "execution_count": null,
   "metadata": {},
   "outputs": [],
   "source": [
    "start = dt.now()\n",
    "# process stuff\n",
    "grid_tf_mnb = GridSearchCV(pipe_stem_tfidf_mnb, param_grid=params_s_mnb1)\n",
    "grid_tf_mnb.fit(X_train_lr, y_train_lr)\n",
    "acc_tf_mnb = grid_tf_mnb.score(X_test_lr, y_test_lr)\n",
    "\n",
    "running_secs_nb = (dt.now() - start).seconds\n",
    "\n",
    "grid_tf_mnb.best_params_, grid_tf_mnb.best_score_, acc_tf_mnb, test_acc_lr_mnb, running_secs_nb"
   ]
  },
  {
   "cell_type": "code",
   "execution_count": null,
   "metadata": {},
   "outputs": [],
   "source": []
  },
  {
   "cell_type": "code",
   "execution_count": null,
   "metadata": {},
   "outputs": [],
   "source": []
  },
  {
   "cell_type": "code",
   "execution_count": null,
   "metadata": {},
   "outputs": [],
   "source": [
    "pipe_stem_countvec_lr = Pipeline([('cvect', CountVectorizer()),\n",
    "                ('lgr', LogisticRegression(max_iter=10000))])\n",
    "pipe_stem_countvec_lr.fit(X_train_s, y_train_s)\n",
    "test_acc_s_lr = pipe_stem_countvec_lr.score(X_test_s, y_test_s)"
   ]
  },
  {
   "cell_type": "code",
   "execution_count": null,
   "metadata": {},
   "outputs": [],
   "source": [
    "params_s_lr = {'cvect__max_features': [100, 300, 1000, 2000, 4000, 7000],\n",
    "         'cvect__stop_words': ['english', None]}"
   ]
  },
  {
   "cell_type": "code",
   "execution_count": null,
   "metadata": {},
   "outputs": [],
   "source": [
    "start = dt.now()\n",
    "\n",
    "grid_s_lr = GridSearchCV(pipe_stem_countvec_lr, param_grid=params_s_lr)\n",
    "grid_s_lr.fit(X_train_s, y_train_s)\n",
    "\n",
    "running_secs = (dt.now() - start).seconds\n",
    "\n",
    "acc_s_lr = grid_s.score(X_test_s, y_test_s)"
   ]
  },
  {
   "cell_type": "code",
   "execution_count": null,
   "metadata": {},
   "outputs": [],
   "source": [
    "grid_s_lr.best_params_, grid_s_lr.best_score_, running_secs"
   ]
  },
  {
   "cell_type": "code",
   "execution_count": null,
   "metadata": {},
   "outputs": [],
   "source": [
    "X_lr = lemma_df.drop('humor', axis = 1)\n",
    "y_lr = lemma_df['humor']"
   ]
  },
  {
   "cell_type": "code",
   "execution_count": null,
   "metadata": {},
   "outputs": [],
   "source": [
    "X_train_lr, X_test_lr, y_train_lr, y_test_lr = train_test_split(X_lr['text'], y_lr, test_size=0.30, random_state = 42)"
   ]
  },
  {
   "cell_type": "code",
   "execution_count": null,
   "metadata": {},
   "outputs": [],
   "source": [
    "pipe_stem_tfidf_lr = Pipeline([('tfidf', TfidfVectorizer()),\n",
    "                ('lgr', LogisticRegression(max_iter=10000))])\n",
    "pipe_stem_tfidf_lr.fit(X_train_lr, y_train_lr)\n",
    "test_acc_s_lr = pipe_stem_tfidf_lr.score(X_test_lr, y_test_lr)"
   ]
  },
  {
   "cell_type": "code",
   "execution_count": null,
   "metadata": {},
   "outputs": [],
   "source": [
    "params_s_lr = {'tfidf__max_features': [100, 300, 1000, 2000, 4000, 7000],\n",
    "         'tfidf__stop_words': ['english', None]}"
   ]
  },
  {
   "cell_type": "code",
   "execution_count": null,
   "metadata": {},
   "outputs": [],
   "source": [
    "start = dt.now()\n",
    "# process stuff\n",
    "grid_tf_lr = GridSearchCV(pipe_stem_tfidf_lr, param_grid=params_s_lr)\n",
    "grid_tf_lr.fit(X_train_lr, y_train_lr)\n",
    "acc_tf_lr = grid_tf_lr.score(X_test_lr, y_test_lr)\n",
    "\n",
    "running_secs = (dt.now() - start).seconds\n",
    "\n",
    "grid_tf_lr.best_params_, grid_tf_lr.best_score_, acc_tf_lr, running_secs"
   ]
  },
  {
   "cell_type": "code",
   "execution_count": null,
   "metadata": {},
   "outputs": [],
   "source": [
    "pipe_stem_countvec_dt = Pipeline([('cvect', CountVectorizer()),\n",
    "                ('dt', DecisionTreeClassifier())])\n",
    "pipe_stem_countvec_dt.fit(X_train_s, y_train_s)\n",
    "test_acc_s = pipe_stem_countvec_dt.score(X_test_s, y_test_s)"
   ]
  },
  {
   "cell_type": "code",
   "execution_count": null,
   "metadata": {},
   "outputs": [],
   "source": [
    "params_s_dt = {'cvect__max_features': [100, 500, 1000, 2000],\n",
    "         'cvect__stop_words': ['english', None],\n",
    "              'dt__criterion': ['gini', 'entropy']}"
   ]
  },
  {
   "cell_type": "code",
   "execution_count": null,
   "metadata": {},
   "outputs": [],
   "source": [
    "start = dt.now()\n",
    "\n",
    "grid_s_dt = GridSearchCV(pipe_stem_countvec_dt, param_grid=params_s_dt, cv=5)\n",
    "grid_s_dt.fit(X_train_s, y_train_s)\n",
    "acc_s = grid_s_dt.score(X_test_s, y_test_s)\n",
    "\n",
    "running_secs_dt = (dt.now() - start).seconds\n",
    "\n",
    "grid_s_dt.best_params_, grid_s_dt.best_score_,grid_s_dt.cv_results_, running_secs_dt"
   ]
  },
  {
   "cell_type": "code",
   "execution_count": null,
   "metadata": {},
   "outputs": [],
   "source": [
    "pipe_stem_tfidf_dt = Pipeline([('tfidf', TfidfVectorizer()),\n",
    "                ('dt', DecisionTreeClassifier())])\n",
    "pipe_stem_tfidf_dt.fit(X_train_lr, y_train_lr)\n",
    "test_acc_s_lr = pipe_stem_tfidf_dt.score(X_test_lr, y_test_lr)"
   ]
  },
  {
   "cell_type": "code",
   "execution_count": null,
   "metadata": {},
   "outputs": [],
   "source": [
    "params_s_lr = {'tfidf__max_features': [2000, 4000, 7000],\n",
    "         'tfidf__stop_words': ['english', None],\n",
    "              'dt__criterion': ['gini', 'entropy'],\n",
    "              'dt__max_depth': [2, 3, 5, 10, 20]}"
   ]
  },
  {
   "cell_type": "code",
   "execution_count": 116,
   "metadata": {},
   "outputs": [
    {
     "ename": "NameError",
     "evalue": "name 'pipe_stem_tfidf_dt' is not defined",
     "output_type": "error",
     "traceback": [
      "\u001b[0;31m---------------------------------------------------------------------------\u001b[0m",
      "\u001b[0;31mNameError\u001b[0m                                 Traceback (most recent call last)",
      "Input \u001b[0;32mIn [116]\u001b[0m, in \u001b[0;36m<cell line: 3>\u001b[0;34m()\u001b[0m\n\u001b[1;32m      1\u001b[0m start \u001b[38;5;241m=\u001b[39m dt\u001b[38;5;241m.\u001b[39mnow()\n\u001b[0;32m----> 3\u001b[0m grid_tf_dt \u001b[38;5;241m=\u001b[39m GridSearchCV(\u001b[43mpipe_stem_tfidf_dt\u001b[49m, param_grid\u001b[38;5;241m=\u001b[39mparams_s_lr)\n\u001b[1;32m      4\u001b[0m grid_tf_dt\u001b[38;5;241m.\u001b[39mfit(X_train_s, y_train_s)\n\u001b[1;32m      5\u001b[0m acc_s \u001b[38;5;241m=\u001b[39m grid_tf_dt\u001b[38;5;241m.\u001b[39mscore(X_test_s, y_test_s)\n",
      "\u001b[0;31mNameError\u001b[0m: name 'pipe_stem_tfidf_dt' is not defined"
     ]
    }
   ],
   "source": [
    "start = dt.now()\n",
    "\n",
    "grid_tf_dt = GridSearchCV(pipe_stem_tfidf_dt, param_grid=params_s_lr)\n",
    "grid_tf_dt.fit(X_train_s, y_train_s)\n",
    "acc_s = grid_tf_dt.score(X_test_s, y_test_s)\n",
    "\n",
    "running_secs_dt = (dt.now() - start).seconds\n",
    "\n",
    "grid_tf_dt.best_params_, grid_tf_dt.best_score_,grid_tf_dt.cv_results_, running_secs_dt"
   ]
  },
  {
   "cell_type": "code",
   "execution_count": 117,
   "metadata": {},
   "outputs": [
    {
     "data": {
      "text/html": [
       "<div>\n",
       "<style scoped>\n",
       "    .dataframe tbody tr th:only-of-type {\n",
       "        vertical-align: middle;\n",
       "    }\n",
       "\n",
       "    .dataframe tbody tr th {\n",
       "        vertical-align: top;\n",
       "    }\n",
       "\n",
       "    .dataframe thead th {\n",
       "        text-align: right;\n",
       "    }\n",
       "</style>\n",
       "<table border=\"1\" class=\"dataframe\">\n",
       "  <thead>\n",
       "    <tr style=\"text-align: right;\">\n",
       "      <th></th>\n",
       "      <th>best_params</th>\n",
       "      <th>best_score</th>\n",
       "      <th>test_time_sec</th>\n",
       "    </tr>\n",
       "    <tr>\n",
       "      <th>model</th>\n",
       "      <th></th>\n",
       "      <th></th>\n",
       "      <th></th>\n",
       "    </tr>\n",
       "  </thead>\n",
       "  <tbody>\n",
       "    <tr>\n",
       "      <th>Logistic_stem</th>\n",
       "      <td>cvect__max_feature: 7000,cvect__stop_words:None</td>\n",
       "      <td>0.92305</td>\n",
       "      <td>153</td>\n",
       "    </tr>\n",
       "    <tr>\n",
       "      <th>Logistic_lemm</th>\n",
       "      <td>tfidf__max_features: 7000,tfidf__stop_words: None</td>\n",
       "      <td>0.91827</td>\n",
       "      <td>132</td>\n",
       "    </tr>\n",
       "    <tr>\n",
       "      <th>DecisionTree_stem</th>\n",
       "      <td>cvect__max_features: 2000,dt__criterion: entropy</td>\n",
       "      <td>0.86543</td>\n",
       "      <td>1471</td>\n",
       "    </tr>\n",
       "    <tr>\n",
       "      <th>DecisionTree_lemm</th>\n",
       "      <td>criterion: gini,max_depth:6,max_features:7000</td>\n",
       "      <td>0.78504</td>\n",
       "      <td>131</td>\n",
       "    </tr>\n",
       "    <tr>\n",
       "      <th>Bayes_stem</th>\n",
       "      <td>cvect__max_features: 7000,cvect__stop_words: None</td>\n",
       "      <td>0.90633</td>\n",
       "      <td>88</td>\n",
       "    </tr>\n",
       "    <tr>\n",
       "      <th>Bayes_lemm</th>\n",
       "      <td>tfidf__max_features: 7000,tfidf__stop_words: None</td>\n",
       "      <td>0.90472</td>\n",
       "      <td>62</td>\n",
       "    </tr>\n",
       "  </tbody>\n",
       "</table>\n",
       "</div>"
      ],
      "text/plain": [
       "                                                         best_params  \\\n",
       "model                                                                  \n",
       "Logistic_stem        cvect__max_feature: 7000,cvect__stop_words:None   \n",
       "Logistic_lemm      tfidf__max_features: 7000,tfidf__stop_words: None   \n",
       "DecisionTree_stem   cvect__max_features: 2000,dt__criterion: entropy   \n",
       "DecisionTree_lemm      criterion: gini,max_depth:6,max_features:7000   \n",
       "Bayes_stem         cvect__max_features: 7000,cvect__stop_words: None   \n",
       "Bayes_lemm         tfidf__max_features: 7000,tfidf__stop_words: None   \n",
       "\n",
       "                  best_score test_time_sec  \n",
       "model                                       \n",
       "Logistic_stem        0.92305           153  \n",
       "Logistic_lemm        0.91827           132  \n",
       "DecisionTree_stem    0.86543          1471  \n",
       "DecisionTree_lemm    0.78504           131  \n",
       "Bayes_stem           0.90633            88  \n",
       "Bayes_lemm           0.90472            62  "
      ]
     },
     "execution_count": 117,
     "metadata": {},
     "output_type": "execute_result"
    }
   ],
   "source": [
    "pd.DataFrame({'model': ['Logistic_stem', 'Logistic_lemm','DecisionTree_stem', 'DecisionTree_lemm',\n",
    "                        'Bayes_stem', 'Bayes_lemm'], \n",
    "             'best_params': ['cvect__max_feature: 7000,cvect__stop_words:None',\n",
    "                             'tfidf__max_features: 7000,tfidf__stop_words: None',\n",
    "                             'cvect__max_features: 2000,dt__criterion: entropy',\n",
    "                             'criterion: gini,max_depth:6,max_features:7000',\n",
    "                             'cvect__max_features: 7000,cvect__stop_words: None',\n",
    "                             'tfidf__max_features: 7000,tfidf__stop_words: None'],\n",
    "              \n",
    "             'best_score': ['0.92305', '0.91827', '0.86543', '0.78504', '0.90633', '0.90472'],\n",
    "             'test_time_sec': ['153','132','1471','131','88','62']}).set_index('model') "
   ]
  },
  {
   "cell_type": "code",
   "execution_count": null,
   "metadata": {},
   "outputs": [],
   "source": []
  }
 ],
 "metadata": {
  "kernelspec": {
   "display_name": "Python 3 (ipykernel)",
   "language": "python",
   "name": "python3"
  },
  "language_info": {
   "codemirror_mode": {
    "name": "ipython",
    "version": 3
   },
   "file_extension": ".py",
   "mimetype": "text/x-python",
   "name": "python",
   "nbconvert_exporter": "python",
   "pygments_lexer": "ipython3",
   "version": "3.9.12"
  }
 },
 "nbformat": 4,
 "nbformat_minor": 4
}
